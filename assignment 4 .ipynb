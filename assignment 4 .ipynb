{
 "cells": [
  {
   "cell_type": "markdown",
   "id": "4360ce66-6db1-40a5-a474-73d7dafab1d5",
   "metadata": {},
   "source": [
    "# Assignment - 4"
   ]
  },
  {
   "cell_type": "markdown",
   "id": "e400941c-4b6d-43ca-911d-c0084b256ce3",
   "metadata": {},
   "source": [
    "### Theory questions"
   ]
  },
  {
   "cell_type": "markdown",
   "id": "b8bbf09f-df28-484a-853e-ac2d02a951d9",
   "metadata": {},
   "source": [
    "Q 1. What is the difference between a function and a method in python?"
   ]
  },
  {
   "cell_type": "markdown",
   "id": "3e387d0f-5b4a-4d2f-a0e5-9060124b18c8",
   "metadata": {},
   "source": [
    "1. Function:\n",
    "\n",
    "✲ A function is a block of code that performs a specific task.\n",
    "\n",
    "✲ It can be defined using the def keyword.\n",
    "\n",
    "✲ Functions are generally independent of any class or object. \n",
    "\n",
    "✲ They can exist on their own and can be called directly without   needing an object.\n",
    "\n",
    "✲ Functions can be called by their name and passed arguments to    work with.\n",
    "Example-"
   ]
  },
  {
   "cell_type": "code",
   "execution_count": 3,
   "id": "8f119eaa-f34f-48ca-8539-e859731b549a",
   "metadata": {},
   "outputs": [
    {
     "data": {
      "text/plain": [
       "'hello , Tushar'"
      ]
     },
     "execution_count": 3,
     "metadata": {},
     "output_type": "execute_result"
    }
   ],
   "source": [
    "def greet(name):\n",
    "    return f\"hello , {name}\"\n",
    "\n",
    "greet('Tushar')    "
   ]
  },
  {
   "cell_type": "markdown",
   "id": "1984dc5c-7597-4a87-8364-9a672f1b4619",
   "metadata": {},
   "source": [
    "2. Method:\n",
    "\n",
    "✲ A method is a function that is associated with an object or a class. It is essentially a function that operates within the context of a class or an instance.\n",
    " \n",
    "  There are two main types of methods in Python:\n",
    "\n",
    "✲ Instance methods: Operate on an instance of a class and can access its attributes.\n",
    "\n",
    "✲ Class methods: Operate on the class itself and are defined using @classmethod.\n",
    "\n",
    "✲ Methods are called on objects (instances of a class) and are passed the instance as the first argument, conventionally named self."
   ]
  },
  {
   "cell_type": "code",
   "execution_count": 9,
   "id": "5bb9b2a0-92d3-4271-baae-9bfe2db16b0b",
   "metadata": {},
   "outputs": [
    {
     "name": "stdout",
     "output_type": "stream",
     "text": [
      "hello, world\n"
     ]
    }
   ],
   "source": [
    "class Welcome:\n",
    "    def __init__(self, name):  \n",
    "        self.name = name\n",
    "    \n",
    "    def greet(self):\n",
    "        return f\"hello, {self.name}\"\n",
    "        \n",
    "number = Welcome('world')\n",
    "\n",
    "print(number.greet()) "
   ]
  },
  {
   "cell_type": "markdown",
   "id": "1373cce1-60cc-4739-a363-88f5938d1e3c",
   "metadata": {},
   "source": [
    "Q 2. Explain the concept of function arguments and parameters in python."
   ]
  },
  {
   "cell_type": "markdown",
   "id": "c2916ee9-bb56-464d-9c8b-2f08dc8f77ba",
   "metadata": {},
   "source": [
    "In Python, function arguments and parameters are important concepts that define how data is passed to functions.\n",
    "\n",
    "1. Parameters:\n",
    "\n",
    "⁍ Parameters are the variables defined in the function signature (the    function definition).\n",
    "\n",
    "⁍ They act as placeholders for the values that the function will         receive when called."
   ]
  },
  {
   "cell_type": "code",
   "execution_count": 11,
   "id": "3a78177e-03ac-4e6b-b3d4-c8f2a6b67cf2",
   "metadata": {},
   "outputs": [
    {
     "name": "stdout",
     "output_type": "stream",
     "text": [
      "{'tails', 'dream girl', 'aladdin'}\n"
     ]
    }
   ],
   "source": [
    "def curly_tails(story_book): # here (story_book) is a parameter.\n",
    "    name_ = set(story_book)\n",
    "\n",
    "    return name_\n",
    "\n",
    "story_book = ('tails' , 'aladdin' , 'dream girl')\n",
    "output =  curly_tails(story_book)\n",
    "print(output)"
   ]
  },
  {
   "cell_type": "markdown",
   "id": "a17b2796-9ec9-4fad-a94b-7af8667e9429",
   "metadata": {},
   "source": [
    "2. Arguments:\n",
    "\n",
    "⁍ Arguments are the actual values or data you pass into the function     when you call it.\n",
    "\n",
    "⁍ These values are assigned to the corresponding parameters in the       function definition."
   ]
  },
  {
   "cell_type": "code",
   "execution_count": 2,
   "id": "c458c2a2-91f5-4d27-8ac1-413d52d01ddf",
   "metadata": {},
   "outputs": [
    {
     "name": "stdout",
     "output_type": "stream",
     "text": [
      "{'tails', 'aladdin', 'dream girl'}\n"
     ]
    }
   ],
   "source": [
    "def curly_tails(story_book):\n",
    "    name_ = set(story_book)\n",
    "\n",
    "    return name_\n",
    "\n",
    "story_book = ('tails' , 'aladdin' , 'dream girl')\n",
    "output =  curly_tails(story_book)\n",
    "print(output) #here 'tails' , 'aladdin' , 'dream girl' are the argument."
   ]
  },
  {
   "cell_type": "markdown",
   "id": "f0fe288c-c8e3-4441-be46-6427cd5d1427",
   "metadata": {},
   "source": [
    "Q 3.What are the different ways to define and call a function in python?"
   ]
  },
  {
   "cell_type": "markdown",
   "id": "54fa6adc-fa7f-4404-8fd2-0aeb8688250b",
   "metadata": {},
   "source": [
    "In Python, there are several ways to define and call functions, depending on the context and type of function. Here are the different approaches:\n",
    "\n",
    "1. Regular Function Definition and Call\n",
    "\n",
    "This is the most common way to define and call a function.\n",
    "Example:"
   ]
  },
  {
   "cell_type": "code",
   "execution_count": 4,
   "id": "279ef01c-5ee1-4e32-894e-f9dc576a6e3c",
   "metadata": {},
   "outputs": [
    {
     "name": "stdout",
     "output_type": "stream",
     "text": [
      "('dolphin', 'jelly fish', 'shark')\n"
     ]
    }
   ],
   "source": [
    "def star_fish(type):\n",
    "    varity = set(type)\n",
    "    \n",
    "    return varity\n",
    "\n",
    "type = ('dolphin', 'jelly fish' , 'shark')\n",
    "print(type)"
   ]
  },
  {
   "cell_type": "markdown",
   "id": "85c792b2-1f0f-420b-8c20-43dbd253d17e",
   "metadata": {},
   "source": [
    "2. Function with Default Arguments\n",
    "\n",
    "You can define functions with default argument values. If the argument is not provided during the call, the default value is used.\n",
    "\n",
    "Example:"
   ]
  },
  {
   "cell_type": "code",
   "execution_count": 15,
   "id": "1ca6dee3-1f52-4d3a-b5be-a2715b44f5e8",
   "metadata": {},
   "outputs": [
    {
     "name": "stdout",
     "output_type": "stream",
     "text": [
      "dolphin\n"
     ]
    }
   ],
   "source": [
    "def star_fish(type = 'dolphin'):\n",
    "    print(type)\n",
    "  \n",
    "    \n",
    "star_fish() #here the default value is present i.e no value is filled in parenthesis"
   ]
  },
  {
   "cell_type": "markdown",
   "id": "21c75552-5459-4be7-bacd-137a38e94f1b",
   "metadata": {},
   "source": [
    "3. Function with Keyword Arguments\n",
    "\n",
    "When calling a function, you can pass arguments by their parameter names, known as keyword arguments. This improves readability and flexibility."
   ]
  },
  {
   "cell_type": "code",
   "execution_count": 12,
   "id": "1498a9e7-fd6f-4898-b1d7-ce0addd032f6",
   "metadata": {},
   "outputs": [],
   "source": [
    "def docu_(personal):\n",
    "    def small_docu_():\n",
    "        print(personal)\n",
    "\n",
    "docu_('aadhar card')"
   ]
  },
  {
   "cell_type": "markdown",
   "id": "b412b75f-9f3d-4681-b274-0deaa2deb6ab",
   "metadata": {},
   "source": [
    "4. Nested Functions\n",
    "\n",
    "You can define functions inside other functions, known as nested or inner functions.\n",
    "\n",
    "Example:"
   ]
  },
  {
   "cell_type": "code",
   "execution_count": 6,
   "id": "05bddc57-8afd-4108-be47-433c934536ad",
   "metadata": {},
   "outputs": [
    {
     "name": "stdout",
     "output_type": "stream",
     "text": [
      "yes, you are right\n"
     ]
    }
   ],
   "source": [
    "def doc_(x , y):\n",
    "    if (x > y) | (y > -2):\n",
    "        print('yes, you are right')\n",
    "\n",
    "    else:\n",
    "        print ('check again')\n",
    "\n",
    "x = 89\n",
    "y = -11\n",
    "doc_(x , y)"
   ]
  },
  {
   "cell_type": "markdown",
   "id": "eaba5aec-3fc4-432c-9634-1369159dc585",
   "metadata": {},
   "source": [
    "5.  First-Class Functions (Passing Functions as Arguments)\n",
    "\n",
    "Functions in Python are first-class citizens, meaning they can be passed as arguments to other functions.\n",
    "\n",
    "Example:"
   ]
  },
  {
   "cell_type": "code",
   "execution_count": 17,
   "id": "d6ae747a-ea64-4d64-8fd8-cf8132f65530",
   "metadata": {},
   "outputs": [
    {
     "name": "stdout",
     "output_type": "stream",
     "text": [
      "64\n"
     ]
    }
   ],
   "source": [
    "def element_(x , y):\n",
    "    return x ** y\n",
    "\n",
    "output = element_(4 , 3)\n",
    "print(output)\n"
   ]
  },
  {
   "cell_type": "markdown",
   "id": "cef03c8c-729e-49a0-bd2b-a26581a655b3",
   "metadata": {},
   "source": [
    "Q 4. What is the purpose of the 'return' statement in a python function?"
   ]
  },
  {
   "cell_type": "markdown",
   "id": "3a0402d1-1c7d-4ff9-8b42-9917b82e1ca1",
   "metadata": {},
   "source": [
    "The return statement in a Python function is used to:\n",
    "\n",
    "🔸  Exit the function: When the return statement is encountered,      the function terminates, and control is passed back to the caller.\n",
    "\n",
    "🔸  It can return any data type, such as integers, strings,          lists,tuples, dictionaries, objects, etc.\n",
    "\n",
    "🔸 If there is no return statement, or if return is used without     an expression, the function returns None by default.\n",
    "\n",
    "🔸 Once a return statement is executed, the function stops and     no further code inside the function is run."
   ]
  },
  {
   "cell_type": "code",
   "execution_count": 18,
   "id": "35fcb610-d765-4dac-9ed7-9c31817a9542",
   "metadata": {},
   "outputs": [
    {
     "name": "stdout",
     "output_type": "stream",
     "text": [
      "aaladin\n"
     ]
    }
   ],
   "source": [
    "def story_books(name):\n",
    "    return (name)\n",
    "\n",
    "name = 'aaladin'\n",
    "print(name)"
   ]
  },
  {
   "cell_type": "code",
   "execution_count": 21,
   "id": "760ebc09-0f8a-45be-a51a-7ffc46fe1a9e",
   "metadata": {},
   "outputs": [
    {
     "name": "stdout",
     "output_type": "stream",
     "text": [
      "-5.0\n"
     ]
    }
   ],
   "source": [
    "def intro_(a , b):\n",
    "    return (a /b)\n",
    "\n",
    "a = -110\n",
    "b = 22\n",
    "result = a / b\n",
    "print(result)"
   ]
  },
  {
   "cell_type": "markdown",
   "id": "7cd95795-add1-49a6-a308-e3cb9ec8a443",
   "metadata": {},
   "source": [
    "Q 5. What are operators in python and how do they differ from iterables?"
   ]
  },
  {
   "cell_type": "markdown",
   "id": "a440d7d8-bec0-4729-ba93-3db224f507b2",
   "metadata": {},
   "source": [
    "\n",
    "Operators in Python:\n",
    "Operators in Python are special symbols or keywords that perform operations on values (operands). These operations can be mathematical, logical, comparison-based, or even related to specific types (like strings or lists).\n",
    "\n",
    "+ : Addition\n",
    "- : Subtraction\n",
    "* : Multiplication\n",
    "/ : Division\n",
    "\n",
    "Key Differences Between Operators and Iterables:\n",
    "\n",
    "1. Purpose:\n",
    " \n",
    "▪️  Operators perform actions like addition, comparison, logical operations, and more. They are used to manipulate data.\n",
    "\n",
    "▪️  Iterables are data structures (like lists, strings, etc.) that contain multiple items and can be looped over or iterated through.\n",
    "\n",
    "2. Usage:\n",
    "\n",
    "▪️  Operators are used within expressions, such as 5 + 3, to perform calculations or comparisons.\n",
    "\n",
    "▪️  Iterables are used to store and access a collection of elements (like a list or string) that you can loop through, like for item in iterable.\n",
    "\n",
    "3. Data vs Actions:\n",
    "\n",
    "▪️  Operators define actions (e.g., addition, comparison).\n",
    "\n",
    "▪️  Iterables are objects containing data that you can traverse."
   ]
  },
  {
   "cell_type": "code",
   "execution_count": 23,
   "id": "b9a44856-597f-4089-a0bb-9f5d5c930a5a",
   "metadata": {},
   "outputs": [
    {
     "name": "stdout",
     "output_type": "stream",
     "text": [
      "215\n"
     ]
    }
   ],
   "source": [
    "def maths_(x , y):\n",
    "    return (x ^ y) # operation is used\n",
    "\n",
    "x = 179\n",
    "y = 100\n",
    "output = maths_( x , y)\n",
    "print(output)"
   ]
  },
  {
   "cell_type": "code",
   "execution_count": 24,
   "id": "aa4f1188-3076-4fbf-b48a-4c6067c81981",
   "metadata": {},
   "outputs": [
    {
     "name": "stdout",
     "output_type": "stream",
     "text": [
      "11\n",
      "64\n",
      "-23\n",
      "80\n"
     ]
    }
   ],
   "source": [
    "my_list = [11 , 64 , -23 , 80]\n",
    "for item in my_list:  #iteration used\n",
    "    print(item)"
   ]
  },
  {
   "cell_type": "markdown",
   "id": "2b8e6570-5634-4315-9edd-8f14bc543936",
   "metadata": {},
   "source": [
    "Q 6.Explain the concept of generators in python and how they are defined."
   ]
  },
  {
   "cell_type": "markdown",
   "id": "4c1a772c-dd1f-46b5-9712-56bcf7e1636b",
   "metadata": {},
   "source": [
    "A generator in Python is a type of iterable, like lists or tuples, but instead of storing all of its values in memory, it generates the values on the fly as you iterate through it. Generators are particularly useful when dealing with large datasets or infinite sequences because they are memory-efficient.\n",
    "\n",
    "Generators are defined in two main ways:\n",
    "\n",
    "1. Generator Functions (using yield)\n",
    "2. Generator Expressions (similar to list comprehensions)\n",
    "\n",
    "➮  Generator Functions\n",
    "\n",
    "A generator function is defined like a normal function, but instead of returning a value, it uses the yield keyword. When yield is called, it \"pauses\" the function and provides the yielded value to the caller. When the function is resumed, it continues from the point where it last paused."
   ]
  },
  {
   "cell_type": "code",
   "execution_count": 25,
   "id": "b1cde610-77a7-437c-94ea-d14447f75374",
   "metadata": {},
   "outputs": [
    {
     "name": "stdout",
     "output_type": "stream",
     "text": [
      "10\n",
      "8\n",
      "6\n",
      "4\n",
      "2\n",
      "0\n",
      "-2\n",
      "-4\n",
      "-6\n",
      "-8\n"
     ]
    }
   ],
   "source": [
    "def count_(x):\n",
    "    while x > -10:\n",
    "        yield x  # yield will pause the value\n",
    "        x -= 2\n",
    "\n",
    "actual_values = count_(10)\n",
    "for x in actual_values:\n",
    "    print(x)"
   ]
  },
  {
   "cell_type": "markdown",
   "id": "c4e33b1b-d1d4-493d-8c89-97942a4f4a46",
   "metadata": {},
   "source": [
    "➮  Generator Expressions\n",
    "\n",
    "Generator expressions are similar to list comprehensions, but they produce generators instead of lists. They use parentheses () instead of square brackets []."
   ]
  },
  {
   "cell_type": "code",
   "execution_count": 32,
   "id": "cd6ea761-cc40-4dcb-995a-321f63b01748",
   "metadata": {},
   "outputs": [
    {
     "name": "stdout",
     "output_type": "stream",
     "text": [
      "1\n",
      "1\n",
      "4\n",
      "27\n"
     ]
    }
   ],
   "source": [
    "gen = (x **x for x in range(4))\n",
    "\n",
    "for x in gen:\n",
    "    print(x)"
   ]
  },
  {
   "cell_type": "markdown",
   "id": "b8a4dac1-d6c4-45d2-ad41-fcbb46485c27",
   "metadata": {},
   "source": [
    "Q 7. What are the advantages of using generators over regular funcions ?"
   ]
  },
  {
   "cell_type": "markdown",
   "id": "701e9e0c-1ff6-4072-adbb-43d9e4d92fce",
   "metadata": {},
   "source": [
    "These benefits primarily stem from their ability to generate values on the fly without storing everything in memory.\n",
    "\n",
    "1.Memory Efficiency (Lazy Evaluation):\n",
    "\n",
    "Generators: Generate values one at a time as needed, without keeping the entire sequence in memory. This allows you to work with large or infinite sequences without running out of memory.\n",
    "\n",
    "Regular Functions: Typically compute and return all values at once, which can consume a large amount of memory if the dataset is large.\n",
    "\n",
    "2.  Faster Startup (No Pre-Calculation):\n",
    "\n",
    "Generators : Do not pre-calculate all values upfront. The values are computed as they are needed, meaning the generator starts almost immediately.\n",
    "\n",
    "Regular Functions : Might take a long time to start if the entire sequence has to be calculated and returned before the function finishes.\n",
    "\n",
    "3. Simplified Code for Iteration:\n",
    " \n",
    " Generators can simplify the process of writing iterators. Instead of manually keeping track of state, a generator function uses yield to automatically \"pause\" its state and resume it when the next value is requested, making code more concise and easier to maintain.\n",
    "\n",
    "4. Easier Management of Backpressure:\n",
    "\n",
    "In scenarios where the producer of data (e.g., an API or a hardware sensor) generates data faster than the consumer can handle it, generators naturally handle backpressure by only producing data when the consumer asks for it."
   ]
  },
  {
   "cell_type": "code",
   "execution_count": 1,
   "id": "0736fea9-e904-4df0-8c09-a55a8f685ffe",
   "metadata": {},
   "outputs": [],
   "source": [
    "def funct_():\n",
    "    for i in range(80):\n",
    "        yield(i)    "
   ]
  },
  {
   "cell_type": "markdown",
   "id": "d20c298f-d867-41da-967e-5c1a09591937",
   "metadata": {},
   "source": [
    "Q 8. What is a function in python and when is it typically used?"
   ]
  },
  {
   "cell_type": "markdown",
   "id": "80ac0d52-627e-4b97-96c7-1034f46b2a38",
   "metadata": {},
   "source": [
    "A function in Python is a block of organized, reusable code that performs a specific task. Functions help break programs into smaller, modular parts, making them easier to understand, debug, and maintain.    "
   ]
  },
  {
   "cell_type": "code",
   "execution_count": 8,
   "id": "e84098de-60e5-4b02-8b6e-3091084b515f",
   "metadata": {},
   "outputs": [
    {
     "name": "stdout",
     "output_type": "stream",
     "text": [
      "8.78\n",
      "5.99\n"
     ]
    }
   ],
   "source": [
    "def calc_sum(x ,y):\n",
    "    sum = x +y\n",
    "    print (sum)\n",
    "\n",
    "x = 9 \n",
    "y = -0.22\n",
    "result = calc_sum(x ,y)\n",
    "\n",
    "calc_sum(-3 , 8.99)"
   ]
  },
  {
   "cell_type": "markdown",
   "id": "6d0814fe-80bd-437b-9991-af699ba75921",
   "metadata": {},
   "source": [
    "## Uses:"
   ]
  },
  {
   "cell_type": "markdown",
   "id": "a0a34699-0342-4ba9-92c8-82797a56b0a6",
   "metadata": {},
   "source": [
    "\n",
    "Functions are typically used in Python in the following scenarios:\n",
    "\n",
    "1. Code Reusability:\n",
    "\n",
    "If you have repetitive code blocks that perform the same task, you can define a function and reuse it instead of writing the same code multiple times.\n",
    "\n",
    "2. Avoiding Repetition:\n",
    "\n",
    "Instead of duplicating code for slightly different operations, you can pass different arguments to a function to get varying results while avoiding code duplication.\n",
    "\n",
    "3. Simplifying Complex Tasks:\n",
    "\n",
    "You can break down large or complex tasks into smaller, manageable functions, each responsible for a specific subtask. This keeps the code simpler to understand and maintain.\n",
    "\n",
    "5.  Handling Inputs and Returning Outputs:\n",
    "\n",
    "Functions can take inputs (parameters) and return outputs, making them flexible and adaptable to different scenarios.\n",
    " "
   ]
  },
  {
   "cell_type": "code",
   "execution_count": 10,
   "id": "26cef174-77b3-44a8-bbb8-d004cc6338e2",
   "metadata": {},
   "outputs": [
    {
     "name": "stdout",
     "output_type": "stream",
     "text": [
      "4.5\n",
      "-1.8633333333333333\n"
     ]
    }
   ],
   "source": [
    "def calc_avg(a , b , c):\n",
    "    sum = a + b + c\n",
    "    avg = sum / 3\n",
    "    print(avg)\n",
    "\n",
    "calc_avg (4 , 8 ,1.5)\n",
    "calc_avg(-8.9  , 3.2 , 0.11)"
   ]
  },
  {
   "cell_type": "code",
   "execution_count": 18,
   "id": "cf28b7e6-49aa-4729-a96a-18d75214b76b",
   "metadata": {},
   "outputs": [
    {
     "name": "stdout",
     "output_type": "stream",
     "text": [
      "-11.299999999999997\n"
     ]
    }
   ],
   "source": [
    "def calc_complex ( x , y ,z):\n",
    "    result = x * y - z *(x + z)\n",
    "    print(result)\n",
    "\n",
    "calc_complex(2.9 , 6 , -7)"
   ]
  },
  {
   "cell_type": "markdown",
   "id": "929ac5bb-4236-421f-9e4d-c13c163010fc",
   "metadata": {},
   "source": [
    "Q 9.Explain the purpose and usage of the 'map( )' function in python."
   ]
  },
  {
   "cell_type": "markdown",
   "id": "c85c692b-eeeb-4d25-8714-a329ca158754",
   "metadata": {},
   "source": [
    "The map() function in Python is used to apply a given function to all items in an iterable (like a list, tuple, etc.) and return an iterator .\n",
    " It is particularly useful when you need to perform the same operation on every element in a collection of data."
   ]
  },
  {
   "cell_type": "code",
   "execution_count": 26,
   "id": "53c5eafb-9f41-40fe-a0bd-69a704a5334a",
   "metadata": {},
   "outputs": [
    {
     "name": "stdout",
     "output_type": "stream",
     "text": [
      "[36, 4, 49, 81, 25]\n"
     ]
    }
   ],
   "source": [
    "def square(y):\n",
    "    return y * y\n",
    "   \n",
    "    \n",
    "num_ = [ 6 , 2 ,7 ,9 , 5]\n",
    "sq_num_ = map(square , num_)\n",
    "\n",
    "print(list(sq_num_))\n"
   ]
  },
  {
   "cell_type": "code",
   "execution_count": 29,
   "id": "c16575af-e254-40cb-9f8b-fcd5d2ac46bb",
   "metadata": {},
   "outputs": [
    {
     "name": "stdout",
     "output_type": "stream",
     "text": [
      "[8, 54, 110, 35]\n"
     ]
    }
   ],
   "source": [
    "def multiply_( x , y ):\n",
    "    return x* y\n",
    "\n",
    "list1 = [ 4, 9 , 11, 5 ,20]\n",
    "list2 = [ 2 , 6 ,10 , 7]\n",
    "\n",
    "num = map( multiply_ , list1 , list2)\n",
    "print(list(num))"
   ]
  },
  {
   "cell_type": "markdown",
   "id": "79f1d59c-d61d-4a88-bd8c-23a138f7bc45",
   "metadata": {},
   "source": [
    "Q 10.What is the difference between 'map(  )' , 'reduce(  )' and 'filter(  )' function in python ?"
   ]
  },
  {
   "cell_type": "markdown",
   "id": "004eeeca-f9d2-4d80-91fa-480d5f98ae2c",
   "metadata": {},
   "source": [
    "In Python, map(), reduce(), and filter() are higher-order functions used for processing iterables like lists, tuples, etc. They allow for applying transformations or filtering data in a functional programming style.\n",
    "\n",
    "1, MAP(  )\n",
    "\n",
    "Purpose: Applies a given function to each item in an iterable (like a list) and returns an iterator (or a map object).\n",
    "\n",
    "How it works: map() takes a function and one or more iterables. It applies the function to each element of the iterable(s) and returns the result as an iterator. You usually need to convert this iterator to a list or another sequence to view the results."
   ]
  },
  {
   "cell_type": "code",
   "execution_count": 35,
   "id": "12696787-744b-4910-a97b-d1eb3db4d3e6",
   "metadata": {},
   "outputs": [
    {
     "name": "stdout",
     "output_type": "stream",
     "text": [
      "[0.4, -3.111111111111111, 9.0, 14.0, 7.0]\n"
     ]
    }
   ],
   "source": [
    "def division(x , y):\n",
    "    return( x / y)\n",
    "\n",
    "list1 = [ 2 , -28 ,108 , 42 , 77 ]\n",
    "list2 = [ 5 , 9 , 12 , 3 , 11 ]\n",
    "div_num = map( division , list1 , list2 )\n",
    "\n",
    "print(list(div_num))"
   ]
  },
  {
   "cell_type": "markdown",
   "id": "889285eb-bc56-4a54-aab3-b497961a0d4d",
   "metadata": {},
   "source": [
    "2. FILTER (  )\n",
    "\n",
    "Purpose: Filters elements from an iterable by applying a function that returns a boolean (either True or False), and only the elements for which the function returns True are included in the result.\n",
    "\n",
    "How it works: filter() takes a function and an iterable. It applies the function to each element, and if the function returns True, that element is included in the output."
   ]
  },
  {
   "cell_type": "code",
   "execution_count": 39,
   "id": "d479cffc-84da-465a-9bf5-6ca5bb4087d7",
   "metadata": {},
   "outputs": [
    {
     "name": "stdout",
     "output_type": "stream",
     "text": [
      "[16, 90, 30]\n"
     ]
    }
   ],
   "source": [
    "def even_num(x):\n",
    "    return x % 2 == 0\n",
    "\n",
    "number = [33 ,16 , 90 ,30 , 33]\n",
    "result = filter (even_num , number )\n",
    "print(list(result))"
   ]
  },
  {
   "cell_type": "markdown",
   "id": "a8bb9633-f42f-4633-a5ad-27c4e35c033f",
   "metadata": {},
   "source": [
    "3. REDUCE (  )\n",
    "\n",
    "Purpose: Reduces the iterable to a single value by repeatedly applying a function (that takes two arguments) to pairs of elements. It processes the iterable cumulatively, meaning it combines elements step by step into one final result.\n",
    "\n",
    "How it works: reduce() takes a function that accepts two arguments and applies it cumulatively to the items of the iterable from left to right, reducing the iterable to a single value. It is part of the functools module in Python 3."
   ]
  },
  {
   "cell_type": "code",
   "execution_count": 50,
   "id": "fa17ed27-9cc4-4f0b-afc5-78d99e64b651",
   "metadata": {},
   "outputs": [
    {
     "name": "stdout",
     "output_type": "stream",
     "text": [
      "169\n"
     ]
    }
   ],
   "source": [
    "from functools import reduce \n",
    "\n",
    "def odd_num(x , y):\n",
    "    return x + y\n",
    "\n",
    "number = [33 ,16 , 90 ,30 ]\n",
    "result = reduce(odd_num , number)\n",
    "\n",
    "print(result)"
   ]
  },
  {
   "cell_type": "markdown",
   "id": "f14b9705-d568-463b-83cf-db3dbdd6282f",
   "metadata": {},
   "source": [
    "Q 11. Using pen and paper write the internal mechanism for sum operation using reduce function on this given list: [47 , 11 , 42 ,13] ;"
   ]
  },
  {
   "cell_type": "code",
   "execution_count": 51,
   "id": "a989693c-0b1e-49a7-acc8-b84e1499309b",
   "metadata": {},
   "outputs": [
    {
     "name": "stdout",
     "output_type": "stream",
     "text": [
      "113\n"
     ]
    }
   ],
   "source": [
    "from functools import reduce \n",
    "\n",
    "def sum_num(x ,y):\n",
    "    return x + y \n",
    "\n",
    "here = [47 , 11 , 42 , 13]\n",
    "result = reduce(sum_num , here)\n",
    "\n",
    "print (result)"
   ]
  },
  {
   "cell_type": "markdown",
   "id": "c6d8a2a2-c7a7-4012-bf23-94135da5a5b3",
   "metadata": {},
   "source": [
    "## Steps\n",
    "\n",
    "Step 1:\n",
    " Apply odd_num to the first two elements:\n",
    "\n",
    "odd_num(47, 11) = 47 + 11 = 58\n",
    "\n",
    "Step 2:\n",
    " Apply odd_num to the result from Step 1 and the next element:\n",
    "\n",
    "odd_num(58, 42) = 58 + 42 = 100\n",
    "\n",
    "Step 3:  \n",
    " Apply odd_num to the result from Step 2 and the final element:\n",
    "\n",
    "odd_num(100, 13) = 100 + 13 = 113\n",
    "\n",
    "So, the output of reduce(odd_num, [47, 11, 42, 13]) is 113"
   ]
  },
  {
   "cell_type": "markdown",
   "id": "9110fe99-baa0-4671-af76-47f61f0da495",
   "metadata": {},
   "source": [
    "## PRACTICE Q."
   ]
  },
  {
   "cell_type": "markdown",
   "id": "726f4924-bea0-4625-a0b4-7b8dc323a181",
   "metadata": {},
   "source": [
    "Q 1. Write a python function that takes a list of numbers as input and returns the sum of all even nos. in  the list ."
   ]
  },
  {
   "cell_type": "code",
   "execution_count": 3,
   "id": "3d67c53a-c32a-45aa-b12d-8b10d5338659",
   "metadata": {},
   "outputs": [
    {
     "name": "stdout",
     "output_type": "stream",
     "text": [
      "6\n"
     ]
    }
   ],
   "source": [
    "from functools import reduce  \n",
    "\n",
    "def only_even(a , b):\n",
    "    if b % 2 ==0:\n",
    "        return a + b\n",
    "        \n",
    "    else:\n",
    "         return a \n",
    "\n",
    "list1 = [2 , 7.1 , 17 , 0.2 , 4] \n",
    "result = reduce( only_even , list1)\n",
    "\n",
    "print(result) # float values are not operated by reduce()"
   ]
  },
  {
   "cell_type": "markdown",
   "id": "71623d2b-d460-455a-8c3a-2f95d97eab5f",
   "metadata": {},
   "source": [
    "Q 2. Create a python function that accepts a string and the reverse of that string. "
   ]
  },
  {
   "cell_type": "code",
   "execution_count": 28,
   "id": "f78a4f98-0498-44c2-997e-0ea4c526208c",
   "metadata": {},
   "outputs": [
    {
     "name": "stdout",
     "output_type": "stream",
     "text": [
      "input_string: I am the boss\n",
      " reverse_string: ssob eht ma I\n"
     ]
    }
   ],
   "source": [
    "def rev_strin(input_string):\n",
    "    return input_string [ : :-1]\n",
    "  \n",
    "input_string =  'I am the boss'\n",
    "reverse_string = rev_strin(input_string)\n",
    "\n",
    "print(\"input_string:\" , input_string)\n",
    "print( \" reverse_string:\" , reverse_string)"
   ]
  },
  {
   "cell_type": "markdown",
   "id": "a749d656-b01c-4394-8c8f-3baa80124e63",
   "metadata": {},
   "source": [
    "Q 3. Implement a python function that takes a list of integers and return a new list containing the square of each no. ?   "
   ]
  },
  {
   "cell_type": "code",
   "execution_count": null,
   "id": "4dde6efc-40e2-4ed6-b527-0fafdc24d29e",
   "metadata": {},
   "outputs": [],
   "source": [
    "def square_lis(x):\n",
    "    return x**2\n",
    "\n",
    "x = [3 , 8 ,10 ,9 ,14]\n",
    "final = list (map(square_lis , x))\n",
    "\n",
    "print(final)"
   ]
  },
  {
   "cell_type": "markdown",
   "id": "4e39b919-972d-4fb9-a699-b579dd49f0d0",
   "metadata": {},
   "source": [
    "Q 4. Write a python function that checks if a given no. is prime or not from 1 to 200."
   ]
  },
  {
   "cell_type": "code",
   "execution_count": 27,
   "id": "e8c71f27-d6a1-4ff8-9217-b775af33196b",
   "metadata": {},
   "outputs": [
    {
     "name": "stdout",
     "output_type": "stream",
     "text": [
      "2 , 3 , 5 , 7 , 11 , 13 , 17 , 19 , 23 , 29 , 31 , 37 , 41 , 43 , 47 , 53 , 59 , 61 , 67 , 71 , 73 , 79 , 83 , 89 , 97 , 101 , 103 , 107 , 109 , 113 , 127 , 131 , 137 , 139 , 149 , 151 , 157 , 163 , 167 , 173 , 179 , 181 , 191 , 193 , 197 , 199 , "
     ]
    }
   ],
   "source": [
    "  def prime_num( h ):\n",
    "    if h < 2:\n",
    "        return False\n",
    "\n",
    "    for i in range ( 2 , int (h**0.5) + 1):\n",
    "        \n",
    "        if h % i == 0:\n",
    "            return False\n",
    "    \n",
    "    return True       \n",
    "    \n",
    "for h in range( 1 , 201 ):\n",
    "     if prime_num(h):\n",
    "            print(h , end = ' , ')\n",
    "            "
   ]
  },
  {
   "cell_type": "markdown",
   "id": "b79ee341-1bcf-4d94-bc54-c23f3b96087a",
   "metadata": {},
   "source": [
    "Q 5. Create on iterator class in python that generates the fibonacci sequence up to a specified no. of terms."
   ]
  },
  {
   "cell_type": "code",
   "execution_count": null,
   "id": "33c85a94-2647-48c0-8d6b-d74d23bc5e3f",
   "metadata": {},
   "outputs": [],
   "source": []
  },
  {
   "cell_type": "markdown",
   "id": "b4fab485-c770-439a-803a-074720f168fe",
   "metadata": {},
   "source": [
    "Q 6. Write a generator function in python that yields the powers of 2 up to a given exponents. "
   ]
  },
  {
   "cell_type": "code",
   "execution_count": 40,
   "id": "f93cef0d-441c-45d3-9540-9f3effec2393",
   "metadata": {},
   "outputs": [
    {
     "name": "stdout",
     "output_type": "stream",
     "text": [
      "1\n",
      "2\n",
      "4\n",
      "8\n",
      "16\n",
      "32\n"
     ]
    }
   ],
   "source": [
    "def expo_num(value):\n",
    "    \n",
    "    for exp in range(value):\n",
    "        yield 2**exp\n",
    "    \n",
    "for number in expo_num(6):\n",
    "    print(number )"
   ]
  },
  {
   "cell_type": "markdown",
   "id": "f751ce0b-e2ac-4d8c-9b4e-ae981762e361",
   "metadata": {},
   "source": [
    "Q 7. Implement a generator function that reads a file line by line and yields each line as a string."
   ]
  },
  {
   "cell_type": "code",
   "execution_count": null,
   "id": "9367d320-baef-4f1d-a521-63a5280e8c55",
   "metadata": {},
   "outputs": [],
   "source": [
    "def mys_string(file_path):\n",
    "    \n",
    "    with open(file_path, 'r') as file:\n",
    "        for line in file:\n",
    "            yield line.strip()\n",
    "        \n",
    "file_path = 'hello world'  \n",
    "\n",
    "for line in mys_string(file_path):\n",
    "    print(line)        "
   ]
  },
  {
   "cell_type": "markdown",
   "id": "9d3414cf-9a22-45c1-8ea4-095ce3c61a65",
   "metadata": {},
   "source": [
    "Q 8.Use a lamba function in python to sort a list of tuples based on the second siement of each tuple."
   ]
  },
  {
   "cell_type": "code",
   "execution_count": 50,
   "id": "d9a95d1d-e886-41a2-8517-1ac3f39fd19a",
   "metadata": {},
   "outputs": [
    {
     "name": "stdout",
     "output_type": "stream",
     "text": [
      "[(3, 'blue'), (4, 'grey'), (1, 'pink'), (2, 'yellow')]\n"
     ]
    }
   ],
   "source": [
    "tuples__ = [(1 , 'pink') , (2 , 'yellow') , (3 , 'blue') , (4 , 'grey')]\n",
    "\n",
    "new_list = sorted(tuples__ , key = lambda x : x [1])\n",
    "\n",
    "print(new_list)"
   ]
  },
  {
   "cell_type": "markdown",
   "id": "c4ddf2f0-0fdb-4263-b81b-0a6f1cb47a02",
   "metadata": {},
   "source": [
    "Q 9. Write a python program that use 'map( )' to convert a list to temperature from celsius to fahrenheit."
   ]
  },
  {
   "cell_type": "code",
   "execution_count": 1,
   "id": "e5d725d8-c6a1-4a18-b475-8e0c646c919a",
   "metadata": {},
   "outputs": [
    {
     "name": "stdout",
     "output_type": "stream",
     "text": [
      "[176.0, 143.6, 81.5, 103.1]\n"
     ]
    }
   ],
   "source": [
    "def celsius_to_fahrenheit(celsius):\n",
    "    return(celsius * 9/5) + 32\n",
    "\n",
    "celsius = [ 80 , 62 , 27.5 , 39.50]\n",
    "fahrenheit_list = list(map( celsius_to_fahrenheit , celsius))\n",
    "\n",
    "print(fahrenheit_list)"
   ]
  },
  {
   "cell_type": "markdown",
   "id": "6e24cd09-0bbf-4480-9f92-0c7b14566946",
   "metadata": {},
   "source": [
    "Q 10. Create a python program that uses 'filter(  )' to remove all the vowels from a given string."
   ]
  },
  {
   "cell_type": "code",
   "execution_count": null,
   "id": "75d4eea9-c520-4283-9059-fdbfeb30ae93",
   "metadata": {},
   "outputs": [],
   "source": [
    "def not_vowel(alpha):\n",
    "    vowels = 'aeiouAEIOU'\n",
    "    return alpha not "
   ]
  },
  {
   "cell_type": "code",
   "execution_count": 8,
   "id": "2c785386-0092-47f4-97dd-6cd3365caae6",
   "metadata": {},
   "outputs": [
    {
     "name": "stdout",
     "output_type": "stream",
     "text": [
      "Ths s  smpl bk.\n"
     ]
    }
   ],
   "source": [
    "def not_vowel(alpha):\n",
    "    vowels = 'aeiouAEIOU'\n",
    "    return alpha not in vowels\n",
    "\n",
    "string1 = 'This is a simple book.'\n",
    "\n",
    "result = ''.join(filter(not_vowel , string1))\n",
    "\n",
    "print(result)"
   ]
  },
  {
   "cell_type": "code",
   "execution_count": null,
   "id": "f2b5c5b8-9077-424f-bcd9-5268f475973a",
   "metadata": {},
   "outputs": [],
   "source": []
  },
  {
   "cell_type": "markdown",
   "id": "bd9c6e6a-7989-4ff1-b472-090396997a9b",
   "metadata": {},
   "source": [
    "\"Good morning, sir. I have some queries on certain topics, which is why I wasn't able to solve those questions. Kindly help me with my queries.\""
   ]
  }
 ],
 "metadata": {
  "kernelspec": {
   "display_name": "Python 3 (ipykernel)",
   "language": "python",
   "name": "python3"
  },
  "language_info": {
   "codemirror_mode": {
    "name": "ipython",
    "version": 3
   },
   "file_extension": ".py",
   "mimetype": "text/x-python",
   "name": "python",
   "nbconvert_exporter": "python",
   "pygments_lexer": "ipython3",
   "version": "3.12.4"
  }
 },
 "nbformat": 4,
 "nbformat_minor": 5
}
